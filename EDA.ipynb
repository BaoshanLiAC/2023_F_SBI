{
 "cells": [
  {
   "cell_type": "markdown",
   "metadata": {},
   "source": [
    "# Exploratory Data Analysis (EDA)"
   ]
  },
  {
   "cell_type": "markdown",
   "metadata": {},
   "source": [
    "    "
   ]
  },
  {
   "cell_type": "markdown",
   "metadata": {},
   "source": [
    "## Project Scope:"
   ]
  },
  {
   "cell_type": "markdown",
   "metadata": {},
   "source": [
    "One of your clients is a large real estate investment company. They invest in houses, appartments and condos within a small county in New York state. As a part of their business, they want to try and predict the fair transaction price of a property before it's sold.\n",
    "\n",
    "**Current solution:** The company currently uses a third party appraisal service. Appraisers are professionals who visit a property and estimate a fair price using their expertise or their own sets of metrics and checklists. Unfortunately, the skill levels of appraisers can vary greatly. The company compared the appraiser prices to actual transaction prices and they found that the estimates given by the inexperienced appraisers were **off by $70,000** on average.\n",
    "\n",
    "**Your role:** The company has hired you to find a data driven approach to value properties. They currently have a dataset for transaction prices for previously sold properties on the market and your goal is to build a real estate pricing model using that dataset.\n",
    "\n",
    "**Goal:** Build a model to predict transaction prices with an average error of under $70,000.\n",
    "\n",
    "**Specifics:** \n",
    "\n",
    "* Machine Learning task: Regression model \n",
    "* Target variable: Transaction price \n",
    "* Input variables: Refer to data dictionary file - \"Real Estate Project - Data Dictionary\" \n",
    "* Success Criteria: Mean Absolute Error (MAE) < $70,000\n",
    "\n",
    "This project will be carried out in 4 stages\n",
    "\n",
    "1. **Exploratory Data Analysis: Data understanding and generating insights**\n",
    "2. Data Cleaning & Data Preparation: Preparing data for Modelling\n",
    "3. Data Modelling: Experimenting with different algorithms\n",
    "4. Model Evaluation: Evaluate using performance metrics"
   ]
  },
  {
   "cell_type": "markdown",
   "metadata": {},
   "source": [
    "## Welcome to Exploratory Data Analysis (EDA)"
   ]
  },
  {
   "cell_type": "markdown",
   "metadata": {},
   "source": [
    "Our goal with this lecture is to **\"get to know\"** the data. Try to learn as much about the data as possible, but don't spend too much time and get stuck on this step. You will probably need to do ad-hoc data exploration later. Remember, the **CRISP-DM** process is iterative."
   ]
  },
  {
   "cell_type": "markdown",
   "metadata": {},
   "source": [
    "#### Import the libraries we need."
   ]
  },
  {
   "cell_type": "code",
   "execution_count": 1,
   "metadata": {},
   "outputs": [],
   "source": [
    "# Pandas for Data Manipulation\n",
    "import pandas as pd\n",
    "\n",
    "# Matplotlib for visualization\n",
    "import matplotlib.pyplot as plt\n",
    "\n",
    "# display plots in the notebook\n",
    "%matplotlib inline \n",
    "\n",
    "# Seaborn for easier visualization\n",
    "import seaborn as sns"
   ]
  },
  {
   "cell_type": "markdown",
   "metadata": {},
   "source": [
    "* `%matplotlib inline` helps plot the chart without having to use `plt.show( )` everytime. This is useful in Jupyter, but in IDE' like Spyder, we have to do `plt.show( )` to see the chart."
   ]
  },
  {
   "cell_type": "markdown",
   "metadata": {},
   "source": [
    "#### Import the dataset."
   ]
  },
  {
   "cell_type": "code",
   "execution_count": 11,
   "metadata": {
    "scrolled": true
   },
   "outputs": [],
   "source": [
    "# Load 'real_estate.csv' in a pandas dataframe 'df'\n",
    "df = pd.read_csv('real_estate.csv')"
   ]
  },
  {
   "cell_type": "markdown",
   "metadata": {},
   "source": [
    "The first step to understanding your dataset is to display its basic information. This will give you a high-level understanding of your dataset's structure, features, and values."
   ]
  },
  {
   "cell_type": "code",
   "execution_count": 12,
   "metadata": {
    "scrolled": true
   },
   "outputs": [],
   "source": [
    "# print the dataset using .head()\n",
    "pd.set_option('display.max_columns', None)\n",
    "#pd.set_option('display.max_rows', None)"
   ]
  },
  {
   "cell_type": "markdown",
   "metadata": {},
   "source": [
    "The purpose of displaying examples from the dataset is not to perform rigorous analysis. Instead, try to get a qualitative \"feel\" for the dataset.\n",
    "\n",
    "Answer these questions below:\n",
    "\n",
    "* Do the columns make sense?\n",
    "* Do the values in those columns make sense?\n",
    "* Is missing data going to be a big problem based on an eyeball test?\n",
    "* What types of classes are there?\n",
    "\n",
    "Spend a couple minutes looking over the data to get familiar with it."
   ]
  },
  {
   "cell_type": "markdown",
   "metadata": {},
   "source": [
    "Finally, it's also helpful to look at the last 5 rows of data.\n",
    "* Sometimes datasets will have **corrupted data** hiding at the very end (depending on the data source).\n",
    "* It never hurts to double-check."
   ]
  },
  {
   "cell_type": "code",
   "execution_count": 34,
   "metadata": {},
   "outputs": [
    {
     "data": {
      "text/html": [
       "<div>\n",
       "<style scoped>\n",
       "    .dataframe tbody tr th:only-of-type {\n",
       "        vertical-align: middle;\n",
       "    }\n",
       "\n",
       "    .dataframe tbody tr th {\n",
       "        vertical-align: top;\n",
       "    }\n",
       "\n",
       "    .dataframe thead th {\n",
       "        text-align: right;\n",
       "    }\n",
       "</style>\n",
       "<table border=\"1\" class=\"dataframe\">\n",
       "  <thead>\n",
       "    <tr style=\"text-align: right;\">\n",
       "      <th></th>\n",
       "      <th>price</th>\n",
       "      <th>year_sold</th>\n",
       "      <th>property_tax</th>\n",
       "      <th>insurance</th>\n",
       "      <th>beds</th>\n",
       "      <th>baths</th>\n",
       "      <th>sqft</th>\n",
       "      <th>year_built</th>\n",
       "      <th>lot_size</th>\n",
       "      <th>basement</th>\n",
       "      <th>property_type</th>\n",
       "    </tr>\n",
       "  </thead>\n",
       "  <tbody>\n",
       "    <tr>\n",
       "      <th>1878</th>\n",
       "      <td>385000</td>\n",
       "      <td>2002</td>\n",
       "      <td>1250</td>\n",
       "      <td>381</td>\n",
       "      <td>5</td>\n",
       "      <td>6</td>\n",
       "      <td>6381</td>\n",
       "      <td>2004</td>\n",
       "      <td>224334</td>\n",
       "      <td>1.0</td>\n",
       "      <td>Bunglow</td>\n",
       "    </tr>\n",
       "    <tr>\n",
       "      <th>1879</th>\n",
       "      <td>690000</td>\n",
       "      <td>2015</td>\n",
       "      <td>1553</td>\n",
       "      <td>473</td>\n",
       "      <td>5</td>\n",
       "      <td>6</td>\n",
       "      <td>6501</td>\n",
       "      <td>1956</td>\n",
       "      <td>23086</td>\n",
       "      <td>1.0</td>\n",
       "      <td>Bunglow</td>\n",
       "    </tr>\n",
       "    <tr>\n",
       "      <th>1880</th>\n",
       "      <td>600000</td>\n",
       "      <td>1999</td>\n",
       "      <td>942</td>\n",
       "      <td>287</td>\n",
       "      <td>5</td>\n",
       "      <td>6</td>\n",
       "      <td>7064</td>\n",
       "      <td>1995</td>\n",
       "      <td>217800</td>\n",
       "      <td>1.0</td>\n",
       "      <td>Bunglow</td>\n",
       "    </tr>\n",
       "    <tr>\n",
       "      <th>1881</th>\n",
       "      <td>759900</td>\n",
       "      <td>2009</td>\n",
       "      <td>803</td>\n",
       "      <td>245</td>\n",
       "      <td>5</td>\n",
       "      <td>6</td>\n",
       "      <td>7500</td>\n",
       "      <td>2006</td>\n",
       "      <td>8886</td>\n",
       "      <td>1.0</td>\n",
       "      <td>Bunglow</td>\n",
       "    </tr>\n",
       "    <tr>\n",
       "      <th>1882</th>\n",
       "      <td>735000</td>\n",
       "      <td>2015</td>\n",
       "      <td>1459</td>\n",
       "      <td>444</td>\n",
       "      <td>5</td>\n",
       "      <td>6</td>\n",
       "      <td>7515</td>\n",
       "      <td>1958</td>\n",
       "      <td>10497</td>\n",
       "      <td>1.0</td>\n",
       "      <td>Bunglow</td>\n",
       "    </tr>\n",
       "  </tbody>\n",
       "</table>\n",
       "</div>"
      ],
      "text/plain": [
       "       price  year_sold  property_tax  insurance  beds  baths  sqft  \\\n",
       "1878  385000       2002          1250        381     5      6  6381   \n",
       "1879  690000       2015          1553        473     5      6  6501   \n",
       "1880  600000       1999           942        287     5      6  7064   \n",
       "1881  759900       2009           803        245     5      6  7500   \n",
       "1882  735000       2015          1459        444     5      6  7515   \n",
       "\n",
       "      year_built  lot_size  basement property_type  \n",
       "1878        2004    224334       1.0       Bunglow  \n",
       "1879        1956     23086       1.0       Bunglow  \n",
       "1880        1995    217800       1.0       Bunglow  \n",
       "1881        2006      8886       1.0       Bunglow  \n",
       "1882        1958     10497       1.0       Bunglow  "
      ]
     },
     "execution_count": 34,
     "metadata": {},
     "output_type": "execute_result"
    }
   ],
   "source": [
    "# Display the last 5 rows of data.\n",
    "df.tail(5)"
   ]
  },
  {
   "cell_type": "code",
   "execution_count": 36,
   "metadata": {},
   "outputs": [
    {
     "data": {
      "text/plain": [
       "(1883, 11)"
      ]
     },
     "execution_count": 36,
     "metadata": {},
     "output_type": "execute_result"
    }
   ],
   "source": [
    "# look at the shape, or the dimensions of the dataset using the '.shape' attribute\n",
    "# Dataframe dimensionsf\n",
    "df.shape\n",
    "\n"
   ]
  },
  {
   "cell_type": "markdown",
   "metadata": {},
   "source": [
    "As you can see, we have **1883 observations and 11 features**. One of those features is technically the target variable."
   ]
  },
  {
   "cell_type": "markdown",
   "metadata": {},
   "source": [
    "### Next, let's take a look at the data types of our features."
   ]
  },
  {
   "cell_type": "code",
   "execution_count": 19,
   "metadata": {},
   "outputs": [
    {
     "data": {
      "text/plain": [
       "price              int64\n",
       "year_sold          int64\n",
       "property_tax       int64\n",
       "insurance          int64\n",
       "beds               int64\n",
       "baths              int64\n",
       "sqft               int64\n",
       "year_built         int64\n",
       "lot_size           int64\n",
       "basement         float64\n",
       "property_type     object\n",
       "dtype: object"
      ]
     },
     "execution_count": 19,
     "metadata": {},
     "output_type": "execute_result"
    }
   ],
   "source": [
    "# Print column datatypes using .dtypes\n",
    "df.dtypes"
   ]
  },
  {
   "cell_type": "markdown",
   "metadata": {},
   "source": [
    "As you can see, all of the columns are numeric, except for 1 categorical column:\n",
    "\n",
    "* `'property_type'`"
   ]
  },
  {
   "cell_type": "markdown",
   "metadata": {},
   "source": [
    "Now check to see if any data types are incorrect.\n",
    "\n",
    "* Check if any numeric features should be categorical instead based on what you know about the dataset.\n",
    "* Or, check if any categorical features should be numeric instead.\n",
    "* It's fine if you are unsure about some columns, as we'll continue to explore them."
   ]
  },
  {
   "cell_type": "markdown",
   "metadata": {},
   "source": [
    "    "
   ]
  },
  {
   "cell_type": "markdown",
   "metadata": {},
   "source": [
    "## Distributions"
   ]
  },
  {
   "cell_type": "markdown",
   "metadata": {},
   "source": [
    "One of the most enlightening data exploration tasks is plotting the distributions of your features.\n",
    "\n",
    "**Here are a few things to look out for:**\n",
    "* Distributions that don't make sense (e.g a large spike in houses with 10 bedrooms)\n",
    "* Potential outliers that don't make sense\n",
    "* Sparse data\n",
    "* Numeric features that should be categorical\n",
    "* Features that should be binary\n",
    "* Boundaries that don't make sense (e.g. percent values above 100 or below 0)"
   ]
  },
  {
   "cell_type": "markdown",
   "metadata": {},
   "source": [
    "The easiest way to display distributions of numeric features is by using seaborn' Pairplot.\n",
    "* Seaborn comes with a `.pairplot()` function that plots the distributions of all of the numeric features.\n",
    "* Also call `plt.show()` to clear all of the text \"residue\" and just keep the plot."
   ]
  },
  {
   "cell_type": "code",
   "execution_count": 33,
   "metadata": {},
   "outputs": [
    {
     "name": "stdout",
     "output_type": "stream",
     "text": [
      "<class 'pandas.core.frame.DataFrame'>\n",
      "RangeIndex: 1883 entries, 0 to 1882\n",
      "Data columns (total 11 columns):\n",
      " #   Column         Non-Null Count  Dtype  \n",
      "---  ------         --------------  -----  \n",
      " 0   price          1883 non-null   int64  \n",
      " 1   year_sold      1883 non-null   int64  \n",
      " 2   property_tax   1883 non-null   int64  \n",
      " 3   insurance      1883 non-null   int64  \n",
      " 4   beds           1883 non-null   int64  \n",
      " 5   baths          1883 non-null   int64  \n",
      " 6   sqft           1883 non-null   int64  \n",
      " 7   year_built     1883 non-null   int64  \n",
      " 8   lot_size       1883 non-null   int64  \n",
      " 9   basement       1657 non-null   float64\n",
      " 10  property_type  1883 non-null   object \n",
      "dtypes: float64(1), int64(9), object(1)\n",
      "memory usage: 161.9+ KB\n"
     ]
    }
   ],
   "source": [
    "# Plot histogram grid using seaborn pairplot\n",
    "\n",
    "\n",
    "# Clear the text \"residue\" and show the plot\n",
    "\n",
    "\n",
    "# more info\n",
    "df.info()\n",
    "\n"
   ]
  },
  {
   "cell_type": "markdown",
   "metadata": {},
   "source": [
    "### Display the formal summary statistics.\n",
    "* Pandas comes with a `.describe()` function for summary statistics."
   ]
  },
  {
   "cell_type": "markdown",
   "metadata": {},
   "source": [
    "#### Display summary statistics for the numerical features again. Then, answer the following questions:\n",
    "1. In our dataset, what is the earliest transaction year (**year_sold**)?\n",
    "2. Among all properties in our dataset, what is the maximum number of bedrooms (**beds**)?\n",
    "3. In our dataset, do we see more variance in the number of bedrooms (**beds**) or the number of bathrooms (**baths**)?"
   ]
  },
  {
   "cell_type": "code",
   "execution_count": 30,
   "metadata": {},
   "outputs": [
    {
     "data": {
      "text/html": [
       "<div>\n",
       "<style scoped>\n",
       "    .dataframe tbody tr th:only-of-type {\n",
       "        vertical-align: middle;\n",
       "    }\n",
       "\n",
       "    .dataframe tbody tr th {\n",
       "        vertical-align: top;\n",
       "    }\n",
       "\n",
       "    .dataframe thead th {\n",
       "        text-align: right;\n",
       "    }\n",
       "</style>\n",
       "<table border=\"1\" class=\"dataframe\">\n",
       "  <thead>\n",
       "    <tr style=\"text-align: right;\">\n",
       "      <th></th>\n",
       "      <th>price</th>\n",
       "      <th>year_sold</th>\n",
       "      <th>property_tax</th>\n",
       "      <th>insurance</th>\n",
       "      <th>beds</th>\n",
       "      <th>baths</th>\n",
       "      <th>sqft</th>\n",
       "      <th>year_built</th>\n",
       "      <th>lot_size</th>\n",
       "      <th>basement</th>\n",
       "    </tr>\n",
       "  </thead>\n",
       "  <tbody>\n",
       "    <tr>\n",
       "      <th>count</th>\n",
       "      <td>1883.000000</td>\n",
       "      <td>1883.000000</td>\n",
       "      <td>1883.000000</td>\n",
       "      <td>1883.000000</td>\n",
       "      <td>1883.000000</td>\n",
       "      <td>1883.000000</td>\n",
       "      <td>1883.000000</td>\n",
       "      <td>1883.000000</td>\n",
       "      <td>1.883000e+03</td>\n",
       "      <td>1657.0</td>\n",
       "    </tr>\n",
       "    <tr>\n",
       "      <th>mean</th>\n",
       "      <td>422839.807754</td>\n",
       "      <td>2007.111524</td>\n",
       "      <td>466.777483</td>\n",
       "      <td>140.454063</td>\n",
       "      <td>3.420605</td>\n",
       "      <td>2.579926</td>\n",
       "      <td>2329.398832</td>\n",
       "      <td>1982.963887</td>\n",
       "      <td>1.339262e+04</td>\n",
       "      <td>1.0</td>\n",
       "    </tr>\n",
       "    <tr>\n",
       "      <th>std</th>\n",
       "      <td>151462.593276</td>\n",
       "      <td>5.196898</td>\n",
       "      <td>231.656645</td>\n",
       "      <td>72.929765</td>\n",
       "      <td>1.068554</td>\n",
       "      <td>0.945576</td>\n",
       "      <td>1336.991858</td>\n",
       "      <td>20.295945</td>\n",
       "      <td>4.494930e+04</td>\n",
       "      <td>0.0</td>\n",
       "    </tr>\n",
       "    <tr>\n",
       "      <th>min</th>\n",
       "      <td>200000.000000</td>\n",
       "      <td>1993.000000</td>\n",
       "      <td>88.000000</td>\n",
       "      <td>30.000000</td>\n",
       "      <td>1.000000</td>\n",
       "      <td>1.000000</td>\n",
       "      <td>500.000000</td>\n",
       "      <td>1880.000000</td>\n",
       "      <td>0.000000e+00</td>\n",
       "      <td>1.0</td>\n",
       "    </tr>\n",
       "    <tr>\n",
       "      <th>25%</th>\n",
       "      <td>300000.000000</td>\n",
       "      <td>2004.000000</td>\n",
       "      <td>320.000000</td>\n",
       "      <td>94.000000</td>\n",
       "      <td>3.000000</td>\n",
       "      <td>2.000000</td>\n",
       "      <td>1345.000000</td>\n",
       "      <td>1970.000000</td>\n",
       "      <td>1.542000e+03</td>\n",
       "      <td>1.0</td>\n",
       "    </tr>\n",
       "    <tr>\n",
       "      <th>50%</th>\n",
       "      <td>392000.000000</td>\n",
       "      <td>2007.000000</td>\n",
       "      <td>426.000000</td>\n",
       "      <td>125.000000</td>\n",
       "      <td>3.000000</td>\n",
       "      <td>3.000000</td>\n",
       "      <td>1907.000000</td>\n",
       "      <td>1986.000000</td>\n",
       "      <td>6.098000e+03</td>\n",
       "      <td>1.0</td>\n",
       "    </tr>\n",
       "    <tr>\n",
       "      <th>75%</th>\n",
       "      <td>525000.000000</td>\n",
       "      <td>2011.000000</td>\n",
       "      <td>569.000000</td>\n",
       "      <td>169.000000</td>\n",
       "      <td>4.000000</td>\n",
       "      <td>3.000000</td>\n",
       "      <td>3005.000000</td>\n",
       "      <td>2000.000000</td>\n",
       "      <td>1.176100e+04</td>\n",
       "      <td>1.0</td>\n",
       "    </tr>\n",
       "    <tr>\n",
       "      <th>max</th>\n",
       "      <td>800000.000000</td>\n",
       "      <td>2016.000000</td>\n",
       "      <td>4508.000000</td>\n",
       "      <td>1374.000000</td>\n",
       "      <td>5.000000</td>\n",
       "      <td>6.000000</td>\n",
       "      <td>8450.000000</td>\n",
       "      <td>2015.000000</td>\n",
       "      <td>1.220551e+06</td>\n",
       "      <td>1.0</td>\n",
       "    </tr>\n",
       "  </tbody>\n",
       "</table>\n",
       "</div>"
      ],
      "text/plain": [
       "               price    year_sold  property_tax    insurance         beds  \\\n",
       "count    1883.000000  1883.000000   1883.000000  1883.000000  1883.000000   \n",
       "mean   422839.807754  2007.111524    466.777483   140.454063     3.420605   \n",
       "std    151462.593276     5.196898    231.656645    72.929765     1.068554   \n",
       "min    200000.000000  1993.000000     88.000000    30.000000     1.000000   \n",
       "25%    300000.000000  2004.000000    320.000000    94.000000     3.000000   \n",
       "50%    392000.000000  2007.000000    426.000000   125.000000     3.000000   \n",
       "75%    525000.000000  2011.000000    569.000000   169.000000     4.000000   \n",
       "max    800000.000000  2016.000000   4508.000000  1374.000000     5.000000   \n",
       "\n",
       "             baths         sqft   year_built      lot_size  basement  \n",
       "count  1883.000000  1883.000000  1883.000000  1.883000e+03    1657.0  \n",
       "mean      2.579926  2329.398832  1982.963887  1.339262e+04       1.0  \n",
       "std       0.945576  1336.991858    20.295945  4.494930e+04       0.0  \n",
       "min       1.000000   500.000000  1880.000000  0.000000e+00       1.0  \n",
       "25%       2.000000  1345.000000  1970.000000  1.542000e+03       1.0  \n",
       "50%       3.000000  1907.000000  1986.000000  6.098000e+03       1.0  \n",
       "75%       3.000000  3005.000000  2000.000000  1.176100e+04       1.0  \n",
       "max       6.000000  8450.000000  2015.000000  1.220551e+06       1.0  "
      ]
     },
     "execution_count": 30,
     "metadata": {},
     "output_type": "execute_result"
    }
   ],
   "source": [
    "\n",
    "# Summarize numerical features\n",
    "df.describe()"
   ]
  },
  {
   "cell_type": "markdown",
   "metadata": {},
   "source": [
    "**We can also find other useful information such as mean, std (standard deviation), and the 25%, 50%, 75% quartiles.**\n",
    "\n",
    "* For example, it looks like the `'basement'` feature only has the value `1`\n",
    "* We know this because its standard deviation is `0`, while its min and max are both `1`\n",
    "* `'basement'` also has missing values! You can tell because its count is only 1657 (out of a total of 1883 observations). "
   ]
  },
  {
   "cell_type": "markdown",
   "metadata": {},
   "source": [
    "### <span style=\"color:crimson\">Note: We have to change the basement variable to a boolean type and handle the missing values.</span>"
   ]
  },
  {
   "cell_type": "markdown",
   "metadata": {},
   "source": [
    "## <span style=\"color:RoyalBlue\">Segmentations</span>\n",
    "\n",
    "Segmentations are powerful ways to cut the data to observe the relationship between **categorical features and numeric features**.\n",
    "\n",
    "#### Segment <code style=\"color:steelblue\">'sqft'</code> by <code style=\"color:steelblue\">'property_type'</code> and plot the boxplots."
   ]
  },
  {
   "cell_type": "code",
   "execution_count": 11,
   "metadata": {},
   "outputs": [],
   "source": [
    "# Plot a box plot of sqft by property_type using seaborn\n"
   ]
  },
  {
   "cell_type": "markdown",
   "metadata": {},
   "source": [
    "#### After producing the plot, answer these questions:\n",
    "* Which type of property is larger, on average?\n",
    "* Which type of property sees greater variance in sizes?\n",
    "* Does the difference in distributions between classes make intuitive sense?"
   ]
  },
  {
   "cell_type": "markdown",
   "metadata": {},
   "source": [
    "    "
   ]
  },
  {
   "cell_type": "code",
   "execution_count": 12,
   "metadata": {},
   "outputs": [],
   "source": [
    "# Plot a box plot of price by property_type using seaborn\n"
   ]
  },
  {
   "cell_type": "markdown",
   "metadata": {},
   "source": [
    "#### After producing the plot, answer these questions:\n",
    "* Which type of property is more expensive?\n",
    "* What do those outliers signify in the `Bunglow` class?\n"
   ]
  },
  {
   "cell_type": "markdown",
   "metadata": {},
   "source": [
    "### <span style=\"color:crimson\">Note: Take care of these outliers </span>"
   ]
  },
  {
   "cell_type": "markdown",
   "metadata": {},
   "source": [
    "## Correlations</span>\n",
    "\n",
    "Finally, let's take a look at the relationships between numeric features and other numeric features."
   ]
  },
  {
   "cell_type": "markdown",
   "metadata": {},
   "source": [
    "**Correlation is a value between -1 and 1 that represents how closely values for two separate features move in unison.**\n",
    "* Positive correlation means that as one feature increases, the other increases.\n",
    "    <br>E.g. a child's age and their height.\n",
    "* Negative correlation means that as one feature increases, the other decreases.\n",
    "    <br>E.g. hours spent studying and number of parties attended.\n",
    "* Correlations near -1 or 1 indicate a strong relationship.\n",
    "* Those closer to 0 indicate a weak relationship.\n",
    "* 0 indicates no relationship.\n",
    "\n",
    "Pandas DataFrames come with a useful function for calculating correlations: `.corr()`"
   ]
  },
  {
   "cell_type": "code",
   "execution_count": 13,
   "metadata": {},
   "outputs": [],
   "source": [
    "# Calculate correlations between numeric features\n"
   ]
  },
  {
   "cell_type": "markdown",
   "metadata": {},
   "source": [
    "The variable now has a big dataframe that contains all of the correlations between numeric features."
   ]
  },
  {
   "cell_type": "markdown",
   "metadata": {},
   "source": [
    "That's too much information! After all, it's just a big rectangular dataset. So let's visualize this.\n",
    "\n",
    "But first, it's important to notice that the correlations for `'basement'` all show as `NaN`. This is expected because right now that feature doesn't vary at all (its standard deviation is 0)."
   ]
  },
  {
   "cell_type": "markdown",
   "metadata": {},
   "source": [
    "**Let's try to visualize the correlation grid and make it easier.**\n",
    "* Seaborn's helpful `sns.heatmap()` function comes handy.\n",
    "* The `cmap= argument` controls the color palette used in the heatmap. We will set it to the value of `RdBu_r`. So positive correlation values will be red and negative correlation values will be blue.\n",
    "* By the way, what do you think will happen if you put in  `cmap=RdBu` instead of `RdBu_r`? Go ahead and try this out in your Workbook!"
   ]
  },
  {
   "cell_type": "code",
   "execution_count": 14,
   "metadata": {},
   "outputs": [],
   "source": [
    "# Calculate correlations between numeric features\n",
    "# Plot heatmap of correlations\n"
   ]
  },
  {
   "cell_type": "markdown",
   "metadata": {},
   "source": [
    "#### Next, when plotting a heatmap of correlations, it's often helpful to do 2 things:\n",
    "1. Annotate the cell with their correlations values\n",
    "2. Change the size of the figure\n",
    "\n",
    "#### 1. First, change the background to white.\n",
    "* Make the figure size 10 x 8  using <code style=\"color:steelblue\">plt.figure(figsize=(10,8))</code> so that the plot is a bit larger."
   ]
  },
  {
   "cell_type": "markdown",
   "metadata": {},
   "source": [
    "#### 2. Next, display the correlation values in each cell.\n",
    "* The <code style=\"color:steelblue\">annot=</code> argument controls whether to annotate each cell with its value. By default, it's <code style=\"color:crimson\">False</code>.\n",
    "* To make the chart cleaner, multiply the <code style=\"color:steelblue\">correlations</code> DataFrame by 100 before passing it to the heatmap function.\n",
    "* Pass in the argument <code style=\"color:steelblue\">fmt=<span style=\"color:crimson\">'.0f'</span></code> to format the annotations to a whole number."
   ]
  },
  {
   "cell_type": "code",
   "execution_count": 15,
   "metadata": {},
   "outputs": [],
   "source": [
    "# Make the figsize 10 x 8\n",
    "\n",
    "# Plot heatmap of annotated correlations\n"
   ]
  },
  {
   "cell_type": "markdown",
   "metadata": {},
   "source": [
    "The most helpful way to interpret this correlation heatmap is to start by scanning the left side and find the row with our target variable, which is `'price'`.\n",
    "\n",
    "* Then, scan across to see if any of the boxes are dark red (strong positive correlation) or dark blue (strong negative correlation)."
   ]
  },
  {
   "cell_type": "markdown",
   "metadata": {},
   "source": [
    "Before jumping to the next module, I would recommend going back and reviewing the charts you made. This time, since you've already created them, you can move through more quickly and really start to understand the **story** behind the data."
   ]
  }
 ],
 "metadata": {
  "anaconda-cloud": {},
  "kernelspec": {
   "display_name": "Python 3 (ipykernel)",
   "language": "python",
   "name": "python3"
  },
  "language_info": {
   "codemirror_mode": {
    "name": "ipython",
    "version": 3
   },
   "file_extension": ".py",
   "mimetype": "text/x-python",
   "name": "python",
   "nbconvert_exporter": "python",
   "pygments_lexer": "ipython3",
   "version": "3.11.4"
  }
 },
 "nbformat": 4,
 "nbformat_minor": 1
}
